{
 "cells": [
  {
   "cell_type": "markdown",
   "id": "9933033e-f450-4227-b273-e6c6a925b5bc",
   "metadata": {
    "editable": true,
    "slideshow": {
     "slide_type": ""
    },
    "tags": []
   },
   "source": [
    "# NumPy"
   ]
  },
  {
   "cell_type": "markdown",
   "id": "f7688599-936f-41f7-87b3-a470a0fbca26",
   "metadata": {},
   "source": [
    "GETTING FAMILIAR WITH NumPy :\n",
    " -"
   ]
  },
  {
   "cell_type": "markdown",
   "id": "44530e14-2b8b-417c-9ca5-8ab514f7ae51",
   "metadata": {},
   "source": [
    "1. INSTALLING NumPY :\n",
    "\n",
    "  If you haven't installed NumPy yet, you can do so using pip :\n",
    "   - pip install numpy\n"
   ]
  },
  {
   "cell_type": "markdown",
   "id": "384fcdf4-6940-4841-8a96-588fe13173ec",
   "metadata": {},
   "source": [
    "2. IMPORTING NumPy :\n",
    "   \n",
    "To start using NumPy, we'll need to import it into our Python script or Jupyter Notebook. It's common to import NumPy with the alias np:"
   ]
  },
  {
   "cell_type": "code",
   "execution_count": 8,
   "id": "7d90a7fa-ee98-4e21-90cb-eb55c15f7d25",
   "metadata": {},
   "outputs": [],
   "source": [
    "import numpy as np\n"
   ]
  },
  {
   "cell_type": "markdown",
   "id": "55909c1d-efad-42c4-b977-317f40ea013e",
   "metadata": {},
   "source": [
    "3. CREATING ARRAYS :\n",
    "\n",
    "NumPy arrays are the central data structure of the library. We can create arrays in several ways:"
   ]
  },
  {
   "cell_type": "code",
   "execution_count": 9,
   "id": "728ff67d-50da-4092-9ecd-b3f0b0da28b0",
   "metadata": {},
   "outputs": [
    {
     "name": "stdout",
     "output_type": "stream",
     "text": [
      "[1 2 3 4 5]\n",
      "[1 2 3 4 5]\n"
     ]
    }
   ],
   "source": [
    "# FROM A LIST\n",
    "array_from_list = np.array([1, 2, 3, 4, 5])\n",
    "print(array_from_list)\n",
    "\n",
    "# FROM A TUPLE\n",
    "array_from_tuple = np.array((1, 2, 3, 4, 5))\n",
    "print(array_from_tuple)\n"
   ]
  },
  {
   "cell_type": "markdown",
   "id": "4a9624cc-f25d-4d85-b1d9-dc77fbb4e1bc",
   "metadata": {},
   "source": [
    "Creating arrays with specific values:\n",
    " "
   ]
  },
  {
   "cell_type": "code",
   "execution_count": 38,
   "id": "18df0455-9bd5-47cc-8da8-f215dd923440",
   "metadata": {},
   "outputs": [
    {
     "name": "stdout",
     "output_type": "stream",
     "text": [
      "zeroes array : [[0. 0. 0.]\n",
      " [0. 0. 0.]\n",
      " [0. 0. 0.]]\n",
      "ones array : [[1. 1. 1. 1.]\n",
      " [1. 1. 1. 1.]]\n",
      "range array : [0 1 2 3 4 5 6 7 8 9]\n",
      "evenly spaced array : [0.   0.25 0.5  0.75 1.  ]\n"
     ]
    }
   ],
   "source": [
    "#zeroes array :\n",
    "zeros_array = np.zeros((3, 3))  # 3x3 array of zeros\n",
    "print(f\"zeroes array : {zeros_array}\")\n",
    "\n",
    "#ones array :\n",
    "ones_array = np.ones((2, 4))  # 2x4 array of ones\n",
    "print(f\"ones array : {ones_array}\")\n",
    "\n",
    "# Array with range of values :\n",
    "range_array = np.arange(10)  # Array with values from 0 to 9\n",
    "print(f\"range array : {range_array}\")\n",
    "\n",
    "# Array with evenly spaced values:\n",
    "spaced_array = np.linspace(0, 1, 5)  # 5 values evenly spaced between 0 and 1\n",
    "print(f\"evenly spaced array : {spaced_array}\")"
   ]
  },
  {
   "cell_type": "markdown",
   "id": "6c8a9a25-7159-47c9-9323-e173139565e4",
   "metadata": {},
   "source": [
    "4. BASIC OPERATIONS :"
   ]
  },
  {
   "cell_type": "markdown",
   "id": "23c1888e-2658-4d2e-a90c-e673ccb02d93",
   "metadata": {},
   "source": [
    "- Basic operations include arithmetic operations which we will learn in further topic \"Data Manipulation\" as 'Mathematical Operations'\n",
    "- COMPARISON OPERATIONS :"
   ]
  },
  {
   "cell_type": "code",
   "execution_count": 17,
   "id": "ee8cf404-0110-48d7-9028-176517552b4c",
   "metadata": {},
   "outputs": [
    {
     "name": "stdout",
     "output_type": "stream",
     "text": [
      "[False False False]\n",
      "[ True  True False]\n",
      "[False False False]\n"
     ]
    }
   ],
   "source": [
    "# Element-wise Comparisons :\n",
    "array1 = np.array([1, 2, 3])\n",
    "array2 = np.array([4, 5, 6])\n",
    "# Greater than comparison\n",
    "greater_than = array1 > array2  # [False, False, False]\n",
    "\n",
    "# Less than or equal comparison\n",
    "less_than_equal = array1 <= 2  # [True, True, False]\n",
    "\n",
    "print(greater_than)\n",
    "print(less_than_equal)\n",
    "# Array Equality :\n",
    "equality = array1 == array2  # [False, False, False]\n",
    "print(equality)\n"
   ]
  },
  {
   "cell_type": "markdown",
   "id": "99547085-f61c-47aa-bfee-020203a82c82",
   "metadata": {},
   "source": [
    "- MATRIX OPERATIONS :"
   ]
  },
  {
   "cell_type": "markdown",
   "id": "2cbb4da8-f442-412a-93d0-2f613bfdac9c",
   "metadata": {},
   "source": [
    "NumPy also allows you to perform matrix operations on 2D arrays (matrices).\n",
    "\n",
    "a. Matrix Multiplication : Perform matrix multiplication (dot product) between two matrices."
   ]
  },
  {
   "cell_type": "markdown",
   "id": "c67587b7-a2a7-43e5-a5ca-2d5ddd4e60bc",
   "metadata": {},
   "source": [
    "b. Transpose : \n",
    "Transpose a matrix (swap rows and columns)."
   ]
  },
  {
   "cell_type": "markdown",
   "id": "f2b5dc3f-ccb8-4784-a54a-4cca7c2a2145",
   "metadata": {},
   "source": [
    "c. Inverse : \n",
    "Calculate the inverse of a square matrix."
   ]
  },
  {
   "cell_type": "code",
   "execution_count": 15,
   "id": "94bbf6f5-3c78-4fcc-966e-19a2cb30084b",
   "metadata": {},
   "outputs": [
    {
     "name": "stdout",
     "output_type": "stream",
     "text": [
      "multiplication: [[19 22]\n",
      " [43 50]]\n",
      "transpose matrix: [[1 3]\n",
      " [2 4]]\n",
      "inverse matrix: [[-2.   1. ]\n",
      " [ 1.5 -0.5]]\n"
     ]
    }
   ],
   "source": [
    "# matrix multiplication\n",
    "matrix1 = np.array([[1, 2], [3, 4]])\n",
    "matrix2 = np.array([[5, 6], [7, 8]])\n",
    "\n",
    "matrix_product = np.dot(matrix1, matrix2)  # [[19, 22], [43, 50]]\n",
    "print(f\"multiplication: {matrix_product}\")\n",
    "\n",
    "#transpose\n",
    "matrix_transpose = np.transpose(matrix1)  # [[1, 3], [2, 4]]\n",
    "print(f\"transpose matrix: {matrix_transpose}\")\n",
    "\n",
    "#inverse\n",
    "matrix_inverse = np.linalg.inv(matrix1)  # [[-2. ,  1. ], [ 1.5, -0.5]]\n",
    "print(f\"inverse matrix: {matrix_inverse}\")\n",
    "\n"
   ]
  },
  {
   "cell_type": "markdown",
   "id": "069d49db-9bb9-4389-849a-7105ab1ca177",
   "metadata": {},
   "source": [
    "- BROADCASTING :\n",
    "   \n",
    "Broadcasting allows NumPy to perform element-wise operations on arrays of different shapes.\n",
    "\n",
    "a. Broadcasting with Scalars : \n",
    "We can add a scalar to an array, and the scalar will be broadcasted across the entire array."
   ]
  },
  {
   "cell_type": "markdown",
   "id": "3398c2b2-e116-48a3-95ad-6cb43096f95d",
   "metadata": {},
   "source": [
    "b. Broadcasting with Arrays of Different Shapes : \n",
    "We can perform operations on arrays of different shapes if one array can be broadcast to the shape of the other."
   ]
  },
  {
   "cell_type": "code",
   "execution_count": 16,
   "id": "1058f45e-38c6-439d-a24f-0c4ca93833d4",
   "metadata": {},
   "outputs": [
    {
     "name": "stdout",
     "output_type": "stream",
     "text": [
      "[11 12 13]\n",
      "[[1 2 3]\n",
      " [2 4 6]\n",
      " [3 6 9]]\n"
     ]
    }
   ],
   "source": [
    "#broadcasting with scalars\n",
    "broadcast_add = array1 + 10  # [11, 12, 13]\n",
    "print(broadcast_add)\n",
    "\n",
    "#broadcasting with arrays of different shapes\n",
    "array3 = np.array([[1], [2], [3]])\n",
    "broadcast_multiplication = array1 * array3  # [[1, 2, 3], [2, 4, 6], [3, 6, 9]]\n",
    "print(broadcast_multiplication)\n"
   ]
  },
  {
   "cell_type": "markdown",
   "id": "01f3e42f-bb11-4e6a-9ff1-dfb88c1e1191",
   "metadata": {},
   "source": [
    "5. ARRAY PROPERITIES :"
   ]
  },
  {
   "cell_type": "markdown",
   "id": "2c764345-8606-4d61-9ef8-159f2a2af68e",
   "metadata": {},
   "source": [
    "Understanding the properties of NumPy arrays is crucial for effectively working with them. Here are some of the key properties and attributes of NumPy arrays:\n",
    "\n",
    "1. Array Shape : \n",
    "The shape attribute of a NumPy array returns a tuple representing the dimensions of the array. This is useful for understanding the structure of the array.\n",
    "2. Array Dimensions (ndim) : \n",
    "The ndim attribute returns the number of dimensions (axes) of the array.\n",
    "3. Array Size : \n",
    "The size attribute returns the total number of elements in the array.\n",
    "4. Array Data Type (dtype) : \n",
    "The dtype attribute returns the data type of the elements in the array. This is important for understanding how the data is stored and processed.\n",
    "5. Array Item Size : \n",
    "The itemsize attribute returns the size (in bytes) of each element in the array.\n",
    "6. Array Number of Bytes : \n",
    "The nbytes attribute returns the total number of bytes consumed by the array.\n",
    "7. Array Transpose : \n",
    "The T attribute provides the transpose of the array (swapping rows with columns for 2D arrays).\n",
    "8. Array Flat Iterator : \n",
    "The flat attribute returns an iterator that can be used to iterate over the array as if it were a flat, one-dimensional array.\n",
    "9. Array Copy vs View : \n",
    "When we modify a slice or a part of an array, NumPy often creates a view of the original array rather than a copy. To explicitly create a copy, we can use the copy() method.\n",
    "10. Changing Data Type (astype) : \n",
    "We can change the data type of an array using the astype() method.\n",
    "11. Checking for NaN or Infinite Values : \n",
    "We can check for NaN (Not a Number) or infinite values in an array.\n"
   ]
  },
  {
   "cell_type": "markdown",
   "id": "10d4bdb1-ba2e-4945-b2a0-8df22f5b499a",
   "metadata": {},
   "source": [
    "Understanding these properties will allow us to manipulate and analyze NumPy arrays more effectively. These attributes and methods provide valuable insights into the structure and behavior of our arrays, enabling more efficient computations and data management."
   ]
  },
  {
   "cell_type": "code",
   "execution_count": 21,
   "id": "fa5b7722-3537-4ae8-9abc-1218e5ecf4ca",
   "metadata": {},
   "outputs": [
    {
     "name": "stdout",
     "output_type": "stream",
     "text": [
      "array shape : (2, 3)\n",
      "dimensions : 2\n",
      "size : 6\n",
      "data type : int64\n",
      "item size : int64\n",
      "no.of bytes : 48\n",
      "transpose : [[1 4]\n",
      " [2 5]\n",
      " [3 6]]\n",
      "flat iterator : \n",
      "1\n",
      "2\n",
      "3\n",
      "4\n",
      "5\n",
      "6\n",
      "copy and view :[[100   2   3]\n",
      " [  4   5   6]]\n",
      "[[100.   2.   3.]\n",
      " [  4.   5.   6.]]\n",
      "datatype changed to :{float_array.dtype}\n",
      "NaN : [False  True False]\n",
      "infinite : [False False False]\n"
     ]
    }
   ],
   "source": [
    "#shape :\n",
    "array = np.array([[1, 2, 3], [4, 5, 6]])\n",
    "print(f\"array shape : {array.shape}\")  # Output: (2, 3)\n",
    "#dimensions :\n",
    "print(f\"dimensions : {array.ndim}\")  # Output: 2\n",
    "#size :\n",
    "print(f\"size : {array.size}\")  # Output: 6\n",
    "#data type :\n",
    "print(f\"data type : {array.dtype}\")  # Output: int64 (or another integer type depending on your system)\n",
    "#item size :\n",
    "print(f\"item size : {array.dtype}\")  # Output: int64 (or another integer type depending on your system)\n",
    "#no.of bytes :\n",
    "print(f\"no.of bytes : {array.nbytes}\")  # Output: 48 (6 elements * 8 bytes per element)\n",
    "#transpose :\n",
    "print(f\"transpose : {array.T}\") # Output; [[1, 4],[2, 5],[3, 6]]\n",
    "#flat iterator :\n",
    "print(\"flat iterator : \")\n",
    "for element in array.flat:\n",
    "    print(element) # Output: 1 2 3 4 5 6\n",
    "#copy vs view :\n",
    "copy_array = array.copy()  # Creates a copy of the array\n",
    "view_array = array[0, :]   # Creates a view (not a copy)\n",
    "view_array[0] = 100        # Modifies the original array\n",
    "print(f\"copy and view :{array}\")               # The original array is modified if a view was used\n",
    "#changing datatype : \n",
    "float_array = array.astype(float)\n",
    "print(float_array)\n",
    "print(\"datatype changed to :{float_array.dtype}\")  # Output: float64\n",
    "#checking for NaN or infinite values :\n",
    "nan_array = np.array([1, np.nan, 3])\n",
    "is_nan = np.isnan(nan_array)  # [False  True  False]\n",
    "is_inf = np.isinf(nan_array)  # [False  False  False]\n",
    "print(f\"NaN : {is_nan}\")\n",
    "print(f\"infinite : {is_inf}\")"
   ]
  },
  {
   "cell_type": "markdown",
   "id": "7170dc2a-fe63-4938-87dc-53c5c16c3b06",
   "metadata": {},
   "source": [
    " DATA MANIPULATION :\n",
    "  -"
   ]
  },
  {
   "cell_type": "markdown",
   "id": "9449d896-2666-4007-8d32-a1114418702f",
   "metadata": {},
   "source": [
    "- CREATION OF NumPy ARRAY :"
   ]
  },
  {
   "cell_type": "markdown",
   "id": "e8963f60-b39c-49d8-824f-7c4f58193ca4",
   "metadata": {},
   "source": [
    "A. Creating Arrays with Ranges of Values : \n",
    "We can create arrays with ranges of values using the following functions:\n",
    "\n",
    "1. Using arange() : \n",
    "Creates an array with a range of values, similar to Python's range() function but returns an array.\n",
    "2. Using linspace() : \n",
    "Creates an array of evenly spaced values between a start and an end value.\n",
    "\n",
    "B. Creating Random Arrays : \n",
    "NumPy offers functions to create arrays with random values:\n",
    "    \n",
    "1. Random Values Between 0 and 1 : \n",
    "Creates an array of random values between 0 and 1.\n",
    "2. Random Values from a Standard Normal Distribution : \n",
    "Creates an array of random values sampled from a standard normal distribution (mean 0, variance 1).\n",
    "3. Random Integers : \n",
    "Creates an array of random integers within a specified range.\n",
    "\n",
    "C. Creating Arrays from Existing Arrays : \n",
    "You can also create new arrays by copying or transforming existing ones:\n",
    "\n",
    "1. Copying an Array : \n",
    "Creates a new array that is a copy of an existing array.\n",
    "2. Reshaping an Array : \n",
    "Changes the shape of an existing array without changing its data.\n",
    "\n",
    "D. Creating Arrays with Special Values : \n",
    "NumPy also provides ways to create arrays with special values or patterns:\n",
    "\n",
    "1. Diagonal Arrays : \n",
    "Creates a diagonal array with specified values on the diagonal.\n",
    "\n",
    "E. Creating Arrays Using Meshgrid : \n",
    "Creates coordinate matrices from coordinate vectors using np.meshgrid().\n",
    "\n",
    "These methods cover the most common ways to create arrays in NumPy. The versatility of array creation in NumPy is one of the reasons it's so widely used in scientific computing and data analysis."
   ]
  },
  {
   "cell_type": "code",
   "execution_count": 23,
   "id": "5aa382e8-de91-42b1-af7b-0edacbaddd66",
   "metadata": {},
   "outputs": [
    {
     "name": "stdout",
     "output_type": "stream",
     "text": [
      "range array : [0 2 4 6 8]\n",
      "linspace array: [0.   0.25 0.5  0.75 1.  ]\n",
      "rndm array : [[0.12782485 0.01830082]\n",
      " [0.63610326 0.11218235]\n",
      " [0.63424339 0.61329081]]\n",
      "rndm nrml array : [[-1.00106145 -0.06375061  1.36543151]\n",
      " [ 0.60890251  0.20214452  1.24264718]\n",
      " [-0.96055855  0.03076896  0.35333376]]\n",
      "rndm int array :[[2 3 7]\n",
      " [1 9 2]\n",
      " [4 9 5]]\n",
      "copied array : [1 2 3]\n",
      "reshaped array : [[1 2 3]\n",
      " [4 5 6]]\n",
      "diagonal array : [[1 0 0 0]\n",
      " [0 2 0 0]\n",
      " [0 0 3 0]\n",
      " [0 0 0 4]]\n",
      "array using meshgrid : \n",
      "[[1 2 3]\n",
      " [1 2 3]\n",
      " [1 2 3]]\n",
      "[[4 4 4]\n",
      " [5 5 5]\n",
      " [6 6 6]]\n"
     ]
    }
   ],
   "source": [
    "#using arange :\n",
    "range_array = np.arange(0, 10, 2)  # Array of values from 0 to 8 with a step of 2\n",
    "print(f\"range array : {range_array}\")\n",
    "#using linspace():\n",
    "linspace_array = np.linspace(0, 1, 5)  # 5 values evenly spaced between 0 and 1\n",
    "print(f\"linspace array: {linspace_array}\")\n",
    "#USING RANDOM VALUES :\n",
    "# 1.btw o nd 1:\n",
    "random_array = np.random.rand(3, 2)  # 3x2 array of random values between 0 and 1\n",
    "print(f\"rndm array : {random_array}\")\n",
    "# 2.from a standard normal distribution :\n",
    "random_normal_array = np.random.randn(3, 3)  # 3x3 array of random values from a normal distribution\n",
    "print(f\"rndm nrml array : {random_normal_array}\")\n",
    "#random integers:\n",
    "random_int_array = np.random.randint(1, 10, (3, 3))  # 3x3 array of random integers between 1 and 9\n",
    "print(f\"rndm int array :{random_int_array}\")\n",
    "#copying an array:\n",
    "original_array = np.array([1, 2, 3])\n",
    "copied_array = np.copy(original_array)\n",
    "print(f\"copied array : {copied_array}\")\n",
    "#reshaping array :\n",
    "reshaped_array = np.array([1, 2, 3, 4, 5, 6]).reshape((2, 3))  # Reshape to a 2x3 array\n",
    "print(f\"reshaped array : {reshaped_array}\")\n",
    "#diagonal arrays :\n",
    "diagonal_array = np.diag([1, 2, 3, 4])  # Diagonal array with the values 1, 2, 3, 4\n",
    "print(f\"diagonal array : {diagonal_array}\")\n",
    "#array using meshgrid :\n",
    "x = np.array([1, 2, 3])\n",
    "y = np.array([4, 5, 6])\n",
    "X, Y = np.meshgrid(x, y)  # Creates grid coordinates based on x and y\n",
    "print(\"array using meshgrid : \")\n",
    "print(X)\n",
    "print(Y)\n"
   ]
  },
  {
   "cell_type": "markdown",
   "id": "43e553a5-5b5f-4c20-b1cf-2e6cbbe64c15",
   "metadata": {},
   "source": [
    "-     ARRAY SLICING : Arrays can be sliced using the ':' operator to access a subset of the array.\n",
    "Syntax : array[start:stop:step]"
   ]
  },
  {
   "cell_type": "code",
   "execution_count": 25,
   "id": "86b30e85-ec23-4620-9799-3c94da3ee812",
   "metadata": {},
   "outputs": [
    {
     "name": "stdout",
     "output_type": "stream",
     "text": [
      "[100   2]\n"
     ]
    }
   ],
   "source": [
    "slice_array = array[0, :2]  # Accessing the first row, first two elements\n",
    "print(slice_array)  # Output: [1 2]"
   ]
  },
  {
   "cell_type": "markdown",
   "id": "ffdcc91f-425d-4220-a8a4-2adcb9a5846e",
   "metadata": {},
   "source": [
    "-     ARRAY INDEXING :  NumPy arrays support various forms of indexing to access elements :"
   ]
  },
  {
   "cell_type": "code",
   "execution_count": 26,
   "id": "5f89f0b5-5f81-49db-8a20-686678df14b5",
   "metadata": {},
   "outputs": [
    {
     "name": "stdout",
     "output_type": "stream",
     "text": [
      "through basic indexing: 2\n",
      "through boolean indexing: [100   4   5   6]\n",
      "through fancy indexing: [2 6]\n"
     ]
    }
   ],
   "source": [
    "# BASIC INDEXING :\n",
    "element = array[0, 1]  # Accessing the element at row 0, column 1\n",
    "print(f\"through basic indexing: {element}\")  # Output: 2\n",
    "# BOOLEAN INDEXING :\n",
    "bool_index = array[array > 3]  # Select elements greater than 3\n",
    "print(f\"through boolean indexing: {bool_index}\")  # Output: [4 5 6]\n",
    "# FANCY INDEXING :\n",
    "fancy_index = array[[0, 1], [1, 2]]  # Selecting elements at (0,1) and (1,2)\n",
    "print(f\"through fancy indexing: {fancy_index}\")  # Output: [2 6]"
   ]
  },
  {
   "cell_type": "markdown",
   "id": "26a2372b-70ed-4bdd-935d-4d9d10100abe",
   "metadata": {},
   "source": [
    "-     MATHEMATICAL OPERATIONS :\n",
    "  NumPy supports element-wise arithmetic operations, which means we can perform operations on arrays directly, and they will be applied to each element of the array."
   ]
  },
  {
   "cell_type": "code",
   "execution_count": 28,
   "id": "bb8d99fe-51dc-4685-a7e9-28a27eba0195",
   "metadata": {},
   "outputs": [
    {
     "name": "stdout",
     "output_type": "stream",
     "text": [
      "element wise addition : [5 7 9]\n",
      "adding a scalar : [11 12 13]\n",
      "difference : [-3 -3 -3]\n",
      "subtarcting a scalar : [-9 -8 -7]\n",
      "Product : [ 4 10 18]\n",
      "scalar multiplied : [2 4 6]\n",
      "division : [0.25 0.4  0.5 ]\n",
      "scalar division :[0.5 1.  1.5]\n",
      "exponent array : [1 4 9]\n",
      "scalar exponent array : [  1  32 729]\n",
      "tringonometric functions: \n"
     ]
    },
    {
     "data": {
      "text/plain": [
       "np.float64(-1.0)"
      ]
     },
     "execution_count": 28,
     "metadata": {},
     "output_type": "execute_result"
    }
   ],
   "source": [
    "#1 # ADDITION :\n",
    "     # We can add two arrays together, or add a scalar to an array.\n",
    "# Element-wise addition of two arrays\n",
    "array1 = np.array([1, 2, 3])\n",
    "array2 = np.array([4, 5, 6])\n",
    "sum_array = array1 + array2  # [5, 7, 9]\n",
    "# Adding a scalar to an array\n",
    "scalar_addition = array1 + 10  # [11, 12, 13]\n",
    "print(f\"element wise addition : {sum_array}\")\n",
    "print(f\"adding a scalar : {scalar_addition}\")\n",
    "#2 # SUBTRACTION :\n",
    "     #Subtract one array from another, or subtract a scalar from an array.\n",
    "difference_array = array1 - array2  # [-3, -3, -3]\n",
    "scalar_subtraction = array1 - 10    # [-9, -8, -7]\n",
    "print(f\"difference : {difference_array}\")\n",
    "print(f\"subtarcting a scalar : {scalar_subtraction}\")\n",
    "#3 # MULTIPLICATION :\n",
    "     #Multiply arrays element-wise, or multiply an array by a scalar.\n",
    "product_array = array1 * array2  # [4, 10, 18]\n",
    "scalar_multiplication = array1 * 2  # [2, 4, 6]\n",
    "print(F\"Product : {product_array}\")\n",
    "print(f\"scalar multiplied : {scalar_multiplication}\")\n",
    "#4 # DIVISION :\n",
    "     #Divide arrays element-wise, or divide an array by a scalar.\n",
    "division_array = array1 / array2  # [0.25, 0.4, 0.5]\n",
    "scalar_division = array1 / 2      # [0.5, 1.0, 1.5]\n",
    "print(f\"division : {division_array}\")\n",
    "print(f\"scalar division :{scalar_division}\")\n",
    "#5 # EXPONENTIATION :\n",
    "     #Raise each element of an array to the power of another array or a scalar.\n",
    "exponent_array = array1 ** 2  # [1, 4, 9]\n",
    "array_exponentiation = array1 ** array2  # [1, 32, 729]\n",
    "print(f\"exponent array : {exponent_array}\")\n",
    "print(f\"scalar exponent array : {array_exponentiation}\")\n",
    "\n",
    "#TRIGONOMETRIC FUNCTIONS :\n",
    "print(\"tringonometric functions: \")\n",
    "np.sin(np.pi / 2)  # 1.0\n",
    "np.cos(np.pi)      # -1.0\n",
    "\n",
    "\n"
   ]
  },
  {
   "cell_type": "markdown",
   "id": "6da08cfe-8026-4a23-b7a5-e0c1b4657452",
   "metadata": {},
   "source": [
    "DATA AGGREGATION : \n",
    " -"
   ]
  },
  {
   "cell_type": "code",
   "execution_count": 34,
   "id": "a7a1a931-61fd-42ae-8e49-475a54af48a9",
   "metadata": {},
   "outputs": [
    {
     "name": "stdout",
     "output_type": "stream",
     "text": [
      "mean: 30.0\n",
      "median: 30.0\n",
      "standard deviation: 14.142135623730951\n",
      "sum: 150\n",
      "minimum: 10\n",
      "maximum: 50\n"
     ]
    }
   ],
   "source": [
    "my_array = np.array([10, 20, 30, 40, 50])\n",
    "print(f\"mean: {np.mean(my_array)}\") # MEAN\n",
    "print(f\"median: {np.median(my_array)}\") #MEDIAN\n",
    "print(f\"standard deviation: {np.std(my_array)}\")  #STANDARD DEVIATION\n",
    "print(f\"sum: {np.sum(my_array)}\")  # SUM\n",
    "print(f\"minimum: { np.min(my_array)  }\") # MIN\n",
    "print(f\"maximum: {np.max(my_array) }\") # MAX"
   ]
  },
  {
   "cell_type": "markdown",
   "id": "bde8e5f0-41e9-481d-8436-98e4af11e4e6",
   "metadata": {},
   "source": [
    "DATA ANALYSIS :\n",
    "-"
   ]
  },
  {
   "cell_type": "markdown",
   "id": "b985e948-3765-4da2-99f9-fbb29b1bb43d",
   "metadata": {},
   "source": [
    "1. Correlation: NumPy’s np.corrcoef() efficiently calculates correlations between large datasets.\n",
    "2. Outliers: NumPy allows quick identification of outliers using standard deviation.\n",
    "3. Percentiles: Calculating percentiles with np.percentile() is straightforward and efficient.\n",
    "4. Efficiency: NumPy is highly optimized for numerical operations, making it significantly faster than pure Python, especially with large datasets.\n",
    "This demonstrates how NumPy excels in handling large datasets, offering powerful tools for statistical analysis and data manipulation."
   ]
  },
  {
   "cell_type": "code",
   "execution_count": 36,
   "id": "382acfda-35c5-4925-aa0e-9fcc46aaaf2a",
   "metadata": {},
   "outputs": [
    {
     "name": "stdout",
     "output_type": "stream",
     "text": [
      "Correlation Matrix:\n",
      "[[1.         0.89425319]\n",
      " [0.89425319 1.        ]]\n",
      "Number of outliers in data1: 286\n",
      "25th Percentile: -0.6686416961814368\n",
      "50th Percentile (Median): 0.0017202220855813645\n",
      "75th Percentile: 0.6734387006684547\n"
     ]
    }
   ],
   "source": [
    "# Finding Correlations\n",
    "correlation_matrix = np.corrcoef(data1, data2)\n",
    "print(\"Correlation Matrix:\")\n",
    "print(correlation_matrix)\n",
    "\n",
    "# Identifying Outliers\n",
    "mean = np.mean(data1)\n",
    "std_dev = np.std(data1)\n",
    "outliers = data1[np.abs(data1 - mean) > 3 * std_dev]\n",
    "print(f\"Number of outliers in data1: {outliers.size}\")\n",
    "\n",
    "# Calculating Percentiles\n",
    "percentile_25 = np.percentile(data1, 25)\n",
    "percentile_50 = np.percentile(data1, 50)\n",
    "percentile_75 = np.percentile(data1, 75)\n",
    "print(f\"25th Percentile: {percentile_25}\")\n",
    "print(f\"50th Percentile (Median): {percentile_50}\")\n",
    "print(f\"75th Percentile: {percentile_75}\")"
   ]
  },
  {
   "cell_type": "markdown",
   "id": "f56e309e-0d3b-42b0-9c54-86d2208baf30",
   "metadata": {},
   "source": [
    "APPLICATION IN DATASCIENCE :\n",
    " -"
   ]
  },
  {
   "cell_type": "markdown",
   "id": "47fb966c-f079-4332-8428-096d89ea7b45",
   "metadata": {},
   "source": [
    "NumPy is an indispensable tool for data science professionals, offering unparalleled performance, functionality, and reliability. Its ability to handle large datasets efficiently makes it a preferred choice in domains requiring intensive numerical computations, such as machine learning, financial analysis, and scientific research. By leveraging NumPy, data scientists can perform complex data manipulations, statistical analyses, and simulations more effectively, allowing them to derive insights and make data-driven decisions with greater confidence and speed.\n",
    "\n",
    "In real-world applications:\n",
    "\n",
    "Machine Learning: NumPy is used for data preprocessing, feature scaling, and implementing algorithms.\n",
    "Financial Analysis: It aids in portfolio optimization and risk management by efficiently analyzing large arrays of financial data.\n",
    "Scientific Research: NumPy is crucial for running numerical simulations and analyzing large datasets in fields like genomics and physics.\n",
    "Overall, NumPy's speed, functionality, and reliability make it a cornerstone of data science workflows."
   ]
  }
 ],
 "metadata": {
  "kernelspec": {
   "display_name": "Python 3 (ipykernel)",
   "language": "python",
   "name": "python3"
  },
  "language_info": {
   "codemirror_mode": {
    "name": "ipython",
    "version": 3
   },
   "file_extension": ".py",
   "mimetype": "text/x-python",
   "name": "python",
   "nbconvert_exporter": "python",
   "pygments_lexer": "ipython3",
   "version": "3.12.3"
  },
  "toc": {
   "base_numbering": 0
  }
 },
 "nbformat": 4,
 "nbformat_minor": 5
}
